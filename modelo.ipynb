{
 "cells": [
  {
   "cell_type": "code",
   "execution_count": 1,
   "metadata": {},
   "outputs": [],
   "source": [
    "import pandas as pd\n",
    "import numpy as np\n",
    "import matplotlib.pyplot as plt\n",
    "import seaborn as sns\n",
    "\n",
    "sns.set()\n",
    "\n",
    "from sklearn.model_selection import train_test_split\n",
    "from sklearn.ensemble import RandomForestClassifier\n",
    "from sklearn.metrics import accuracy_score, confusion_matrix, classification_report\n",
    "from sklearn.dummy import DummyClassifier"
   ]
  },
  {
   "cell_type": "code",
   "execution_count": 2,
   "metadata": {},
   "outputs": [],
   "source": [
    "dados = pd.read_csv('machine-learning-carros.csv')"
   ]
  },
  {
   "cell_type": "code",
   "execution_count": 3,
   "metadata": {},
   "outputs": [],
   "source": [
    "dados.drop(['Unnamed: 0'], axis= 1, inplace= True)"
   ]
  },
  {
   "cell_type": "code",
   "execution_count": 4,
   "metadata": {},
   "outputs": [
    {
     "data": {
      "text/html": [
       "<div>\n",
       "<style scoped>\n",
       "    .dataframe tbody tr th:only-of-type {\n",
       "        vertical-align: middle;\n",
       "    }\n",
       "\n",
       "    .dataframe tbody tr th {\n",
       "        vertical-align: top;\n",
       "    }\n",
       "\n",
       "    .dataframe thead th {\n",
       "        text-align: right;\n",
       "    }\n",
       "</style>\n",
       "<table border=\"1\" class=\"dataframe\">\n",
       "  <thead>\n",
       "    <tr style=\"text-align: right;\">\n",
       "      <th></th>\n",
       "      <th>preco</th>\n",
       "      <th>vendido</th>\n",
       "      <th>idade_do_modelo</th>\n",
       "      <th>km_por_ano</th>\n",
       "    </tr>\n",
       "  </thead>\n",
       "  <tbody>\n",
       "    <tr>\n",
       "      <th>0</th>\n",
       "      <td>30941.02</td>\n",
       "      <td>1</td>\n",
       "      <td>18</td>\n",
       "      <td>35085.22134</td>\n",
       "    </tr>\n",
       "    <tr>\n",
       "      <th>1</th>\n",
       "      <td>40557.96</td>\n",
       "      <td>1</td>\n",
       "      <td>20</td>\n",
       "      <td>12622.05362</td>\n",
       "    </tr>\n",
       "    <tr>\n",
       "      <th>2</th>\n",
       "      <td>89627.50</td>\n",
       "      <td>0</td>\n",
       "      <td>12</td>\n",
       "      <td>11440.79806</td>\n",
       "    </tr>\n",
       "    <tr>\n",
       "      <th>3</th>\n",
       "      <td>95276.14</td>\n",
       "      <td>0</td>\n",
       "      <td>3</td>\n",
       "      <td>43167.32682</td>\n",
       "    </tr>\n",
       "    <tr>\n",
       "      <th>4</th>\n",
       "      <td>117384.68</td>\n",
       "      <td>1</td>\n",
       "      <td>4</td>\n",
       "      <td>12770.11290</td>\n",
       "    </tr>\n",
       "  </tbody>\n",
       "</table>\n",
       "</div>"
      ],
      "text/plain": [
       "       preco  vendido  idade_do_modelo   km_por_ano\n",
       "0   30941.02        1               18  35085.22134\n",
       "1   40557.96        1               20  12622.05362\n",
       "2   89627.50        0               12  11440.79806\n",
       "3   95276.14        0                3  43167.32682\n",
       "4  117384.68        1                4  12770.11290"
      ]
     },
     "execution_count": 4,
     "metadata": {},
     "output_type": "execute_result"
    }
   ],
   "source": [
    "dados.head()"
   ]
  },
  {
   "cell_type": "code",
   "execution_count": null,
   "metadata": {},
   "outputs": [],
   "source": []
  },
  {
   "cell_type": "code",
   "execution_count": 5,
   "metadata": {},
   "outputs": [
    {
     "name": "stdout",
     "output_type": "stream",
     "text": [
      "<class 'pandas.core.frame.DataFrame'>\n",
      "RangeIndex: 10000 entries, 0 to 9999\n",
      "Data columns (total 4 columns):\n",
      " #   Column           Non-Null Count  Dtype  \n",
      "---  ------           --------------  -----  \n",
      " 0   preco            10000 non-null  float64\n",
      " 1   vendido          10000 non-null  int64  \n",
      " 2   idade_do_modelo  10000 non-null  int64  \n",
      " 3   km_por_ano       10000 non-null  float64\n",
      "dtypes: float64(2), int64(2)\n",
      "memory usage: 312.6 KB\n"
     ]
    }
   ],
   "source": [
    "dados.info()"
   ]
  },
  {
   "cell_type": "code",
   "execution_count": 6,
   "metadata": {},
   "outputs": [],
   "source": [
    "x= dados.drop(['vendido'], axis= 1)\n",
    "y= dados['vendido']\n",
    "\n",
    "x_train, x_test, y_train, y_test = train_test_split(x,y, test_size= .30, stratify= y)"
   ]
  },
  {
   "cell_type": "code",
   "execution_count": 7,
   "metadata": {},
   "outputs": [],
   "source": [
    "SEED = 133"
   ]
  },
  {
   "cell_type": "markdown",
   "metadata": {},
   "source": [
    "### **Performance do Modelo com Dados Aleatórios**"
   ]
  },
  {
   "cell_type": "code",
   "execution_count": 8,
   "metadata": {},
   "outputs": [
    {
     "name": "stdout",
     "output_type": "stream",
     "text": [
      "A acurácia do dummy stratified 58.00%\n"
     ]
    }
   ],
   "source": [
    "np.random.seed = SEED\n",
    "\n",
    "dummy_stratified = DummyClassifier()\n",
    "dummy_stratified.fit(x_train, y_train)\n",
    "acuracia = dummy_stratified.score(x_test, y_test) * 100\n",
    "\n",
    "print(f\"A acurácia do dummy stratified {acuracia:.2f}%\")"
   ]
  },
  {
   "cell_type": "markdown",
   "metadata": {},
   "source": [
    "### **Performance do Modelo com Dados de Teste**"
   ]
  },
  {
   "cell_type": "code",
   "execution_count": 9,
   "metadata": {},
   "outputs": [
    {
     "name": "stdout",
     "output_type": "stream",
     "text": [
      "Acurácia do Modelo 75.07%\n"
     ]
    }
   ],
   "source": [
    "\n",
    "np.random.seed = SEED\n",
    "\n",
    "random = RandomForestClassifier(criterion= 'gini')\n",
    "random.fit(x_train, y_train)\n",
    "previsoes = random.predict(x_test)\n",
    "\n",
    "acuracia = accuracy_score(y_test, previsoes)\n",
    "\n",
    "print(f'Acurácia do Modelo {acuracia * 100 :.2f}%') \n",
    "\n"
   ]
  },
  {
   "cell_type": "markdown",
   "metadata": {},
   "source": [
    "### **Performance do Modelo com dados de Treino**"
   ]
  },
  {
   "cell_type": "code",
   "execution_count": 10,
   "metadata": {},
   "outputs": [
    {
     "name": "stdout",
     "output_type": "stream",
     "text": [
      "Acurácia do Modelo 75.97%\n"
     ]
    }
   ],
   "source": [
    "np.random.seed = SEED\n",
    "\n",
    "random = RandomForestClassifier(criterion= 'entropy')\n",
    "random.fit(x_test, y_test)\n",
    "previsoes = random.predict(x_train)\n",
    "\n",
    "acuracia = accuracy_score(y_train, previsoes)\n",
    "\n",
    "print(f'Acurácia do Modelo {acuracia * 100 :.2f}%') "
   ]
  },
  {
   "cell_type": "markdown",
   "metadata": {},
   "source": [
    "### **Performance do Modelo com Validação Cruzada**"
   ]
  },
  {
   "cell_type": "code",
   "execution_count": 11,
   "metadata": {},
   "outputs": [
    {
     "name": "stdout",
     "output_type": "stream",
     "text": [
      "Resultado 73% e 78%\n"
     ]
    }
   ],
   "source": [
    "from sklearn.model_selection import KFold\n",
    "from sklearn.model_selection import cross_val_score\n",
    "\n",
    "np.random.seed = SEED\n",
    "\n",
    "#Definindo os KFolds\n",
    "kfold = KFold(n_splits= 10, shuffle= True, random_state= 5)\n",
    "\n",
    "resultado_validacao_cruzada = cross_val_score(random, x, y, cv = kfold)\n",
    "resultado = resultado_validacao_cruzada.mean()\n",
    "desvio = resultado_validacao_cruzada.std()\n",
    "\n",
    "\n",
    "print(f'Resultado {round((resultado - 2 * desvio) *100)}% e {round((resultado + 2 * desvio) *100)}%')"
   ]
  },
  {
   "cell_type": "markdown",
   "metadata": {},
   "source": [
    "### **Resultado com StratifiedKFold**\n",
    "\n",
    "Este geralmente é o método mais indicado quando estamos trabalhando com classes desbalanceadas. "
   ]
  },
  {
   "cell_type": "code",
   "execution_count": 12,
   "metadata": {},
   "outputs": [
    {
     "name": "stdout",
     "output_type": "stream",
     "text": [
      "Resultado 73% e 77%\n"
     ]
    }
   ],
   "source": [
    "from sklearn.model_selection import StratifiedKFold\n",
    "\n",
    "np.random.seed = SEED\n",
    "\n",
    "cv = StratifiedKFold(n_splits= 10, shuffle= True)\n",
    "\n",
    "modelo = RandomForestClassifier()\n",
    "\n",
    "resultado_validacao_cruzada = cross_val_score(modelo, x, y, cv = cv)\n",
    "resultado = resultado_validacao_cruzada.mean()\n",
    "desvio = resultado_validacao_cruzada.std()\n",
    "\n",
    "print(f'Resultado {round((resultado - 2 * desvio) *100)}% e {round((resultado + 2 * desvio) *100)}%')"
   ]
  },
  {
   "cell_type": "markdown",
   "metadata": {},
   "source": [
    "### **Gerando Modelos de Carros de forma Aleatória**"
   ]
  },
  {
   "cell_type": "code",
   "execution_count": 13,
   "metadata": {},
   "outputs": [
    {
     "data": {
      "text/html": [
       "<div>\n",
       "<style scoped>\n",
       "    .dataframe tbody tr th:only-of-type {\n",
       "        vertical-align: middle;\n",
       "    }\n",
       "\n",
       "    .dataframe tbody tr th {\n",
       "        vertical-align: top;\n",
       "    }\n",
       "\n",
       "    .dataframe thead th {\n",
       "        text-align: right;\n",
       "    }\n",
       "</style>\n",
       "<table border=\"1\" class=\"dataframe\">\n",
       "  <thead>\n",
       "    <tr style=\"text-align: right;\">\n",
       "      <th></th>\n",
       "      <th>preco</th>\n",
       "      <th>vendido</th>\n",
       "      <th>idade_do_modelo</th>\n",
       "      <th>km_por_ano</th>\n",
       "      <th>modelo</th>\n",
       "    </tr>\n",
       "  </thead>\n",
       "  <tbody>\n",
       "    <tr>\n",
       "      <th>0</th>\n",
       "      <td>30941.02</td>\n",
       "      <td>1</td>\n",
       "      <td>18</td>\n",
       "      <td>35085.22134</td>\n",
       "      <td>22</td>\n",
       "    </tr>\n",
       "    <tr>\n",
       "      <th>1</th>\n",
       "      <td>40557.96</td>\n",
       "      <td>1</td>\n",
       "      <td>20</td>\n",
       "      <td>12622.05362</td>\n",
       "      <td>20</td>\n",
       "    </tr>\n",
       "    <tr>\n",
       "      <th>2</th>\n",
       "      <td>89627.50</td>\n",
       "      <td>0</td>\n",
       "      <td>12</td>\n",
       "      <td>11440.79806</td>\n",
       "      <td>14</td>\n",
       "    </tr>\n",
       "    <tr>\n",
       "      <th>3</th>\n",
       "      <td>95276.14</td>\n",
       "      <td>0</td>\n",
       "      <td>3</td>\n",
       "      <td>43167.32682</td>\n",
       "      <td>5</td>\n",
       "    </tr>\n",
       "    <tr>\n",
       "      <th>4</th>\n",
       "      <td>117384.68</td>\n",
       "      <td>1</td>\n",
       "      <td>4</td>\n",
       "      <td>12770.11290</td>\n",
       "      <td>5</td>\n",
       "    </tr>\n",
       "  </tbody>\n",
       "</table>\n",
       "</div>"
      ],
      "text/plain": [
       "       preco  vendido  idade_do_modelo   km_por_ano  modelo\n",
       "0   30941.02        1               18  35085.22134      22\n",
       "1   40557.96        1               20  12622.05362      20\n",
       "2   89627.50        0               12  11440.79806      14\n",
       "3   95276.14        0                3  43167.32682       5\n",
       "4  117384.68        1                4  12770.11290       5"
      ]
     },
     "execution_count": 13,
     "metadata": {},
     "output_type": "execute_result"
    }
   ],
   "source": [
    "#np.random.seed(SEED)\n",
    "dados['modelo']= dados['idade_do_modelo'] + np.random.randint(-2, 3, size= dados.shape[0])\n",
    "dados['modelo']= dados['modelo'] + abs(dados['modelo'].min()) + 1 \n",
    "dados.head()"
   ]
  },
  {
   "cell_type": "code",
   "execution_count": 14,
   "metadata": {},
   "outputs": [
    {
     "data": {
      "text/plain": [
       "array([22, 20, 14,  5, 13, 17, 11, 21, 18,  2, 12,  9,  7,  4,  8, 15,  6,\n",
       "       16, 19, 24, 23, 10,  3,  1])"
      ]
     },
     "execution_count": 14,
     "metadata": {},
     "output_type": "execute_result"
    }
   ],
   "source": [
    "# Verificando os modelos gerados\n",
    "dados['modelo'].unique()"
   ]
  },
  {
   "cell_type": "markdown",
   "metadata": {},
   "source": [
    "### **Validação por Grupos**"
   ]
  },
  {
   "cell_type": "markdown",
   "metadata": {},
   "source": [
    "Prestar atenção ao parametro Groups. É ele quem informa para o validador qual a coluna do grupo."
   ]
  },
  {
   "cell_type": "code",
   "execution_count": 15,
   "metadata": {},
   "outputs": [
    {
     "name": "stdout",
     "output_type": "stream",
     "text": [
      "Resultado 73% e 78%\n"
     ]
    }
   ],
   "source": [
    "from sklearn.model_selection import GroupKFold\n",
    "\n",
    "np.random.seed = SEED\n",
    "\n",
    "cv = GroupKFold(n_splits= 10)\n",
    "\n",
    "modelo = RandomForestClassifier()\n",
    "\n",
    "resultado_validacao_cruzada = cross_val_score(modelo, x, y, cv = cv, groups= dados['modelo'])\n",
    "resultado = resultado_validacao_cruzada.mean()\n",
    "desvio = resultado_validacao_cruzada.std()\n",
    "\n",
    "print(f'Resultado {round((resultado - 2 * desvio) *100)}% e {round((resultado + 2 * desvio) *100)}%')"
   ]
  },
  {
   "cell_type": "markdown",
   "metadata": {},
   "source": [
    "## **Trabalhando com SVC**"
   ]
  },
  {
   "cell_type": "code",
   "execution_count": 23,
   "metadata": {},
   "outputs": [
    {
     "name": "stdout",
     "output_type": "stream",
     "text": [
      "Acurácia do Modelo 75.7%\n"
     ]
    }
   ],
   "source": [
    "from sklearn.preprocessing import StandardScaler\n",
    "from sklearn.svm import SVC\n",
    "\n",
    "scalar = StandardScaler()\n",
    "x_treino_escalado= scalar.fit_transform(x_train)\n",
    "x_teste_escalado= scalar.fit_transform(x_test)\n",
    "\n",
    "\n",
    "np.random.seed= SEED\n",
    "\n",
    "svc = SVC()\n",
    "svc.fit(x_treino_escalado, y_train)\n",
    "previsoes= svc.predict(x_teste_escalado)\n",
    "\n",
    "\n",
    "acuracia = accuracy_score(y_test, previsoes) *100\n",
    "\n",
    "print(f'Acurácia do Modelo {round(acuracia,2)}%')"
   ]
  },
  {
   "cell_type": "markdown",
   "metadata": {},
   "source": [
    "## **SVC de forma errada**\n",
    "\n",
    "Aqui o correto é utilizar um pipeline porque os dados tem de serem pré-processados."
   ]
  },
  {
   "cell_type": "code",
   "execution_count": 25,
   "metadata": {},
   "outputs": [
    {
     "name": "stdout",
     "output_type": "stream",
     "text": [
      "Resultado 75% e 80%\n"
     ]
    }
   ],
   "source": [
    "from sklearn.model_selection import GroupKFold\n",
    "\n",
    "np.random.seed = SEED\n",
    "\n",
    "cv = GroupKFold(n_splits= 10)\n",
    "\n",
    "modelo = SVC()\n",
    "\n",
    "resultado_validacao_cruzada = cross_val_score(modelo, x, y, cv = cv, groups= dados['modelo'])\n",
    "resultado = resultado_validacao_cruzada.mean()\n",
    "desvio = resultado_validacao_cruzada.std()\n",
    "\n",
    "print(f'Resultado {round((resultado - 2 * desvio) *100)}% e {round((resultado + 2 * desvio) *100)}%')"
   ]
  },
  {
   "cell_type": "markdown",
   "metadata": {},
   "source": [
    "## **Trabalhando com PipeLine - Forma Correta**"
   ]
  },
  {
   "cell_type": "code",
   "execution_count": 28,
   "metadata": {},
   "outputs": [
    {
     "name": "stdout",
     "output_type": "stream",
     "text": [
      "Acurácia média do Modelo 76.6%\n",
      "Resultado 74% e 79%\n"
     ]
    }
   ],
   "source": [
    "from sklearn.model_selection import GroupKFold\n",
    "from sklearn.pipeline import Pipeline\n",
    "\n",
    "np.random.seed = SEED\n",
    "\n",
    "cv = GroupKFold(n_splits= 10)\n",
    "\n",
    "scaler = StandardScaler()\n",
    "modelo = SVC()\n",
    "\n",
    "pipeline = Pipeline([('transformacao', scaler), ('estimador', modelo)])\n",
    "\n",
    "resultado_validacao_cruzada = cross_val_score(pipeline, x, y, cv = cv, groups= dados['modelo'])\n",
    "resultado = resultado_validacao_cruzada.mean()\n",
    "desvio = resultado_validacao_cruzada.std()\n",
    "\n",
    "print(f'Acurácia média do Modelo {round(resultado * 100,2)}%')\n",
    "print(f'Resultado {round((resultado - 2 * desvio) *100)}% e {round((resultado + 2 * desvio) *100)}%')"
   ]
  }
 ],
 "metadata": {
  "kernelspec": {
   "display_name": "Python 3.10.4 ('py10')",
   "language": "python",
   "name": "python3"
  },
  "language_info": {
   "codemirror_mode": {
    "name": "ipython",
    "version": 3
   },
   "file_extension": ".py",
   "mimetype": "text/x-python",
   "name": "python",
   "nbconvert_exporter": "python",
   "pygments_lexer": "ipython3",
   "version": "3.10.4"
  },
  "orig_nbformat": 4,
  "vscode": {
   "interpreter": {
    "hash": "14f2a0716530ff180011a5888144c43470b29192f878ee74fce997d3c4673ddf"
   }
  }
 },
 "nbformat": 4,
 "nbformat_minor": 2
}
